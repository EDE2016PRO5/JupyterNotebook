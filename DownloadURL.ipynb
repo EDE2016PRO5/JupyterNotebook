{
 "cells": [
  {
   "cell_type": "code",
   "execution_count": 26,
   "metadata": {},
   "outputs": [],
   "source": [
    "import requests"
   ]
  },
  {
   "cell_type": "code",
   "execution_count": 27,
   "metadata": {},
   "outputs": [],
   "source": [
    "URL=\"https://firebasestorage.googleapis.com/v0/b/storageexample-916c1.appspot.com/o/Data%2Fdata.txt?alt=media&token=cb0ab572-a905-481b-87da-dfe6b247c0b8\""
   ]
  },
  {
   "cell_type": "code",
   "execution_count": 28,
   "metadata": {},
   "outputs": [],
   "source": [
    "## Make request\n",
    "r = requests.get(URL)\n",
    "f = open('data.txt', 'wb').write(r.content)"
   ]
  },
  {
   "cell_type": "code",
   "execution_count": 29,
   "metadata": {},
   "outputs": [],
   "source": [
    "## Read file:\n",
    "f = open(\"data.txt\", \"r\")"
   ]
  },
  {
   "cell_type": "code",
   "execution_count": 30,
   "metadata": {},
   "outputs": [
    {
     "name": "stdout",
     "output_type": "stream",
     "text": [
      "File is open!\n",
      "31, 20, 24.0\n",
      "0, 20, 24.0\n",
      "0, 20, 24.0\n",
      "0, 72, 101.2\n",
      "0, 146, 200.9\n",
      "653, 358, 504.4\n",
      "263, 144, 203.2\n",
      "133, 73, 102.8\n",
      "\n"
     ]
    }
   ],
   "source": [
    "if(f.mode == 'r'):\n",
    "    print('File is open!')\n",
    "    contents = f.read()\n",
    "    print(contents)\n",
    "else:\n",
    "    print('File is not open!')\n",
    "f.close()"
   ]
  },
  {
   "cell_type": "code",
   "execution_count": null,
   "metadata": {},
   "outputs": [],
   "source": []
  }
 ],
 "metadata": {
  "kernelspec": {
   "display_name": "Python 3",
   "language": "python",
   "name": "python3"
  },
  "language_info": {
   "codemirror_mode": {
    "name": "ipython",
    "version": 3
   },
   "file_extension": ".py",
   "mimetype": "text/x-python",
   "name": "python",
   "nbconvert_exporter": "python",
   "pygments_lexer": "ipython3",
   "version": "3.7.0"
  }
 },
 "nbformat": 4,
 "nbformat_minor": 2
}
